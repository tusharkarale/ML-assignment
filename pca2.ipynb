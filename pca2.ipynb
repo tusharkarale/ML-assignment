{
  "nbformat": 4,
  "nbformat_minor": 0,
  "metadata": {
    "colab": {
      "name": "pca.ipynb",
      "provenance": [],
      "toc_visible": true,
      "include_colab_link": true
    },
    "kernelspec": {
      "name": "python3",
      "display_name": "Python 3"
    }
  },
  "cells": [
    {
      "cell_type": "markdown",
      "metadata": {
        "id": "view-in-github",
        "colab_type": "text"
      },
      "source": [
        "<a href=\"https://colab.research.google.com/github/tusharkarale/ML-assignment/blob/main/pca2.ipynb\" target=\"_parent\"><img src=\"https://colab.research.google.com/assets/colab-badge.svg\" alt=\"Open In Colab\"/></a>"
      ]
    },
    {
      "cell_type": "code",
      "metadata": {
        "id": "XUsy1cah-lNa",
        "colab": {
          "base_uri": "https://localhost:8080/"
        },
        "outputId": "afb90031-8ea6-4a46-a4fc-0fae0937cb0d"
      },
      "source": [
        "import pandas as pd\n",
        "import numpy as np\n",
        "import statsmodels.api as sm\n",
        "import seaborn as sns\n",
        "import matplotlib.pyplot as plt\n",
        "import math"
      ],
      "execution_count": 1,
      "outputs": [
        {
          "output_type": "stream",
          "text": [
            "/usr/local/lib/python3.6/dist-packages/statsmodels/tools/_testing.py:19: FutureWarning: pandas.util.testing is deprecated. Use the functions in the public API at pandas.testing instead.\n",
            "  import pandas.util.testing as tm\n"
          ],
          "name": "stderr"
        }
      ]
    },
    {
      "cell_type": "code",
      "metadata": {
        "id": "g3gDWDxk_i6h",
        "colab": {
          "base_uri": "https://localhost:8080/",
          "height": 195
        },
        "outputId": "332906a9-5c8d-4741-99a4-7087e55b84a5"
      },
      "source": [
        "df = pd.read_csv('/content/amsPredictionSheet1.csv')\n",
        "df.head()"
      ],
      "execution_count": 2,
      "outputs": [
        {
          "output_type": "execute_result",
          "data": {
            "text/html": [
              "<div>\n",
              "<style scoped>\n",
              "    .dataframe tbody tr th:only-of-type {\n",
              "        vertical-align: middle;\n",
              "    }\n",
              "\n",
              "    .dataframe tbody tr th {\n",
              "        vertical-align: top;\n",
              "    }\n",
              "\n",
              "    .dataframe thead th {\n",
              "        text-align: right;\n",
              "    }\n",
              "</style>\n",
              "<table border=\"1\" class=\"dataframe\">\n",
              "  <thead>\n",
              "    <tr style=\"text-align: right;\">\n",
              "      <th></th>\n",
              "      <th>Attendance</th>\n",
              "      <th>MSE</th>\n",
              "      <th>HRS</th>\n",
              "      <th>ESE</th>\n",
              "    </tr>\n",
              "  </thead>\n",
              "  <tbody>\n",
              "    <tr>\n",
              "      <th>0</th>\n",
              "      <td>70</td>\n",
              "      <td>10</td>\n",
              "      <td>17</td>\n",
              "      <td>42</td>\n",
              "    </tr>\n",
              "    <tr>\n",
              "      <th>1</th>\n",
              "      <td>92</td>\n",
              "      <td>7</td>\n",
              "      <td>20</td>\n",
              "      <td>39</td>\n",
              "    </tr>\n",
              "    <tr>\n",
              "      <th>2</th>\n",
              "      <td>67</td>\n",
              "      <td>3</td>\n",
              "      <td>18</td>\n",
              "      <td>32</td>\n",
              "    </tr>\n",
              "    <tr>\n",
              "      <th>3</th>\n",
              "      <td>82</td>\n",
              "      <td>16</td>\n",
              "      <td>13</td>\n",
              "      <td>50</td>\n",
              "    </tr>\n",
              "    <tr>\n",
              "      <th>4</th>\n",
              "      <td>80</td>\n",
              "      <td>9</td>\n",
              "      <td>10</td>\n",
              "      <td>44</td>\n",
              "    </tr>\n",
              "  </tbody>\n",
              "</table>\n",
              "</div>"
            ],
            "text/plain": [
              "   Attendance  MSE  HRS  ESE\n",
              "0          70   10   17   42\n",
              "1          92    7   20   39\n",
              "2          67    3   18   32\n",
              "3          82   16   13   50\n",
              "4          80    9   10   44"
            ]
          },
          "metadata": {
            "tags": []
          },
          "execution_count": 2
        }
      ]
    },
    {
      "cell_type": "code",
      "metadata": {
        "id": "AlAH9SqcBSl3",
        "colab": {
          "base_uri": "https://localhost:8080/",
          "height": 284
        },
        "outputId": "c20a89e6-3f0f-428c-f64a-46b9abf398d1"
      },
      "source": [
        "df.describe()"
      ],
      "execution_count": 3,
      "outputs": [
        {
          "output_type": "execute_result",
          "data": {
            "text/html": [
              "<div>\n",
              "<style scoped>\n",
              "    .dataframe tbody tr th:only-of-type {\n",
              "        vertical-align: middle;\n",
              "    }\n",
              "\n",
              "    .dataframe tbody tr th {\n",
              "        vertical-align: top;\n",
              "    }\n",
              "\n",
              "    .dataframe thead th {\n",
              "        text-align: right;\n",
              "    }\n",
              "</style>\n",
              "<table border=\"1\" class=\"dataframe\">\n",
              "  <thead>\n",
              "    <tr style=\"text-align: right;\">\n",
              "      <th></th>\n",
              "      <th>Attendance</th>\n",
              "      <th>MSE</th>\n",
              "      <th>HRS</th>\n",
              "      <th>ESE</th>\n",
              "    </tr>\n",
              "  </thead>\n",
              "  <tbody>\n",
              "    <tr>\n",
              "      <th>count</th>\n",
              "      <td>73.000000</td>\n",
              "      <td>73.000000</td>\n",
              "      <td>73.000000</td>\n",
              "      <td>73.000000</td>\n",
              "    </tr>\n",
              "    <tr>\n",
              "      <th>mean</th>\n",
              "      <td>81.698630</td>\n",
              "      <td>9.780822</td>\n",
              "      <td>12.904110</td>\n",
              "      <td>46.630137</td>\n",
              "    </tr>\n",
              "    <tr>\n",
              "      <th>std</th>\n",
              "      <td>9.506847</td>\n",
              "      <td>3.047069</td>\n",
              "      <td>5.701278</td>\n",
              "      <td>6.617542</td>\n",
              "    </tr>\n",
              "    <tr>\n",
              "      <th>min</th>\n",
              "      <td>62.000000</td>\n",
              "      <td>3.000000</td>\n",
              "      <td>2.000000</td>\n",
              "      <td>32.000000</td>\n",
              "    </tr>\n",
              "    <tr>\n",
              "      <th>25%</th>\n",
              "      <td>75.000000</td>\n",
              "      <td>8.000000</td>\n",
              "      <td>8.000000</td>\n",
              "      <td>42.000000</td>\n",
              "    </tr>\n",
              "    <tr>\n",
              "      <th>50%</th>\n",
              "      <td>80.000000</td>\n",
              "      <td>10.000000</td>\n",
              "      <td>14.000000</td>\n",
              "      <td>47.000000</td>\n",
              "    </tr>\n",
              "    <tr>\n",
              "      <th>75%</th>\n",
              "      <td>90.000000</td>\n",
              "      <td>11.000000</td>\n",
              "      <td>18.000000</td>\n",
              "      <td>50.000000</td>\n",
              "    </tr>\n",
              "    <tr>\n",
              "      <th>max</th>\n",
              "      <td>98.000000</td>\n",
              "      <td>17.000000</td>\n",
              "      <td>22.000000</td>\n",
              "      <td>64.000000</td>\n",
              "    </tr>\n",
              "  </tbody>\n",
              "</table>\n",
              "</div>"
            ],
            "text/plain": [
              "       Attendance        MSE        HRS        ESE\n",
              "count   73.000000  73.000000  73.000000  73.000000\n",
              "mean    81.698630   9.780822  12.904110  46.630137\n",
              "std      9.506847   3.047069   5.701278   6.617542\n",
              "min     62.000000   3.000000   2.000000  32.000000\n",
              "25%     75.000000   8.000000   8.000000  42.000000\n",
              "50%     80.000000  10.000000  14.000000  47.000000\n",
              "75%     90.000000  11.000000  18.000000  50.000000\n",
              "max     98.000000  17.000000  22.000000  64.000000"
            ]
          },
          "metadata": {
            "tags": []
          },
          "execution_count": 3
        }
      ]
    },
    {
      "cell_type": "code",
      "metadata": {
        "id": "FKxp1405_2Ob",
        "colab": {
          "base_uri": "https://localhost:8080/"
        },
        "outputId": "5643ca10-de75-4e2d-9ca3-fe25df619e60"
      },
      "source": [
        "endog = df['ESE'].head(4)\n",
        "exog =  df[['MSE','Attendance','HRS']].head(4)\n",
        "print(exog)"
      ],
      "execution_count": 4,
      "outputs": [
        {
          "output_type": "stream",
          "text": [
            "   MSE  Attendance  HRS\n",
            "0   10          70   17\n",
            "1    7          92   20\n",
            "2    3          67   18\n",
            "3   16          82   13\n"
          ],
          "name": "stdout"
        }
      ]
    },
    {
      "cell_type": "code",
      "metadata": {
        "id": "ijdCHTtTAK5x",
        "colab": {
          "base_uri": "https://localhost:8080/"
        },
        "outputId": "a3063d30-9951-424d-d1e3-89141ecb5d16"
      },
      "source": [
        "X=exog.to_numpy()\n",
        "Y= endog.to_numpy()\n",
        "print(X)"
      ],
      "execution_count": 5,
      "outputs": [
        {
          "output_type": "stream",
          "text": [
            "[[10 70 17]\n",
            " [ 7 92 20]\n",
            " [ 3 67 18]\n",
            " [16 82 13]]\n"
          ],
          "name": "stdout"
        }
      ]
    },
    {
      "cell_type": "code",
      "metadata": {
        "id": "sQCyV8HsA5ZI"
      },
      "source": [
        "from numpy import array\n",
        "from numpy import mean\n",
        "from numpy import cov\n",
        "from numpy.linalg import eig"
      ],
      "execution_count": 6,
      "outputs": []
    },
    {
      "cell_type": "code",
      "metadata": {
        "id": "0xLgfTMFAj_5",
        "colab": {
          "base_uri": "https://localhost:8080/"
        },
        "outputId": "031c0137-58f5-4f63-e776-8786f711ee9f"
      },
      "source": [
        "M = mean(X.T, axis=1)\n",
        "print(M)"
      ],
      "execution_count": 7,
      "outputs": [
        {
          "output_type": "stream",
          "text": [
            "[ 9.   77.75 17.  ]\n"
          ],
          "name": "stdout"
        }
      ]
    },
    {
      "cell_type": "code",
      "metadata": {
        "id": "jKhUalCNBsiv",
        "colab": {
          "base_uri": "https://localhost:8080/"
        },
        "outputId": "8b2d1c55-aa3a-47cd-9a58-ff786e6eee1a"
      },
      "source": [
        "C= X-M\n",
        "print(C)"
      ],
      "execution_count": 8,
      "outputs": [
        {
          "output_type": "stream",
          "text": [
            "[[  1.    -7.75   0.  ]\n",
            " [ -2.    14.25   3.  ]\n",
            " [ -6.   -10.75   1.  ]\n",
            " [  7.     4.25  -4.  ]]\n"
          ],
          "name": "stdout"
        }
      ]
    },
    {
      "cell_type": "code",
      "metadata": {
        "id": "96cJ0SmrA3Ln",
        "colab": {
          "base_uri": "https://localhost:8080/"
        },
        "outputId": "7ab97238-57a7-4254-fd57-5a97c64dc2dd"
      },
      "source": [
        "V = cov(C.T)\n",
        "print(V)\n"
      ],
      "execution_count": 9,
      "outputs": [
        {
          "output_type": "stream",
          "text": [
            "[[ 30.          19.33333333 -13.33333333]\n",
            " [ 19.33333333 132.25         5.        ]\n",
            " [-13.33333333   5.           8.66666667]]\n"
          ],
          "name": "stdout"
        }
      ]
    },
    {
      "cell_type": "code",
      "metadata": {
        "id": "AlVSzh3zCBG9",
        "colab": {
          "base_uri": "https://localhost:8080/"
        },
        "outputId": "9a518599-e58a-485c-b66f-18a79188162c"
      },
      "source": [
        "values, vectors = eig(V)\n",
        "print(vectors)\n",
        "print(values)\n"
      ],
      "execution_count": 10,
      "outputs": [
        {
          "output_type": "stream",
          "text": [
            "[[-0.17721376 -0.86455713  0.47025126]\n",
            " [-0.98396696  0.14588088 -0.10260501]\n",
            " [-0.02010722  0.48089472  0.87654776]]\n",
            "[135.8341334   34.15422626   0.928307  ]\n"
          ],
          "name": "stdout"
        }
      ]
    },
    {
      "cell_type": "code",
      "metadata": {
        "id": "LDPmgrA1CaTJ",
        "colab": {
          "base_uri": "https://localhost:8080/"
        },
        "outputId": "619a7f27-8a43-41b0-8778-d9028553b684"
      },
      "source": [
        "# project data\n",
        "P = vectors.T.dot(C.T)\n",
        "print(P.T)"
      ],
      "execution_count": 11,
      "outputs": [
        {
          "output_type": "stream",
          "text": [
            "[[  7.44853019  -1.99513394   1.26544005]\n",
            " [-13.72742335   5.25060095   0.22701942]\n",
            " [ 11.62082019   4.10001808  -0.84195598]\n",
            " [ -5.34192703  -7.35548508  -0.6505035 ]]\n"
          ],
          "name": "stdout"
        }
      ]
    },
    {
      "cell_type": "code",
      "metadata": {
        "id": "9ESYM_dcDSVa"
      },
      "source": [
        "from sklearn.decomposition import PCA\n",
        "pca = PCA(n_components=1)\n",
        "principalComponents = pca.fit_transform(X)\n",
        "principalDf = pd.DataFrame(data = principalComponents\n",
        "             , columns = ['principal component 1'])\n"
      ],
      "execution_count": 12,
      "outputs": []
    },
    {
      "cell_type": "code",
      "metadata": {
        "id": "asf8keOYEM7E",
        "colab": {
          "base_uri": "https://localhost:8080/"
        },
        "outputId": "8fbaf797-de5a-45b3-952c-ef3ec6f09fcd"
      },
      "source": [
        "exog1 = sm.add_constant(principalDf[['principal component 1']])\n",
        "print(exog1)"
      ],
      "execution_count": 13,
      "outputs": [
        {
          "output_type": "stream",
          "text": [
            "   const  principal component 1\n",
            "0    1.0              -7.448530\n",
            "1    1.0              13.727423\n",
            "2    1.0             -11.620820\n",
            "3    1.0               5.341927\n"
          ],
          "name": "stdout"
        }
      ]
    },
    {
      "cell_type": "code",
      "metadata": {
        "id": "gSH_Z9xlEyz5",
        "colab": {
          "base_uri": "https://localhost:8080/"
        },
        "outputId": "1786f89d-17eb-4cef-b871-2f093a5422e2"
      },
      "source": [
        "from sklearn import linear_model\n",
        "lm = linear_model.LinearRegression()\n",
        "model = lm.fit(exog1,endog)\n",
        "lm.coef_"
      ],
      "execution_count": 14,
      "outputs": [
        {
          "output_type": "execute_result",
          "data": {
            "text/plain": [
              "array([0.       , 0.2889832])"
            ]
          },
          "metadata": {
            "tags": []
          },
          "execution_count": 14
        }
      ]
    },
    {
      "cell_type": "code",
      "metadata": {
        "id": "Sko9_KlwFUOR",
        "colab": {
          "base_uri": "https://localhost:8080/"
        },
        "outputId": "eeaf79fd-f467-4b6b-886a-2108aab6dee5"
      },
      "source": [
        "lm.intercept_"
      ],
      "execution_count": 15,
      "outputs": [
        {
          "output_type": "execute_result",
          "data": {
            "text/plain": [
              "40.75"
            ]
          },
          "metadata": {
            "tags": []
          },
          "execution_count": 15
        }
      ]
    },
    {
      "cell_type": "code",
      "metadata": {
        "id": "URHJEYm1FngR"
      },
      "source": [
        "def RSE(y_true, y_predicted):\n",
        "   \n",
        "    y_true = np.array(y_true)\n",
        "    y_predicted = np.array(y_predicted)\n",
        "    RSS = np.sum(np.square(y_true - y_predicted))\n",
        "\n",
        "    rse = math.sqrt(RSS / (len(y_true) - 2))\n",
        "    return rse"
      ],
      "execution_count": 16,
      "outputs": []
    },
    {
      "cell_type": "code",
      "metadata": {
        "id": "N9tKV-u7Fp65"
      },
      "source": [
        "ypred =lm.predict(exog1)"
      ],
      "execution_count": 17,
      "outputs": []
    },
    {
      "cell_type": "code",
      "metadata": {
        "id": "PCngYOljGEfz",
        "colab": {
          "base_uri": "https://localhost:8080/"
        },
        "outputId": "12070f99-f97e-4d09-8ca6-4d86eb88eba6"
      },
      "source": [
        "re = RSE(endog,ypred)\n",
        "print(re)"
      ],
      "execution_count": 18,
      "outputs": [
        {
          "output_type": "stream",
          "text": [
            "8.146132476706368\n"
          ],
          "name": "stdout"
        }
      ]
    }
  ]
}